{
  "nbformat": 4,
  "nbformat_minor": 0,
  "metadata": {
    "colab": {
      "provenance": [],
      "gpuType": "T4",
      "include_colab_link": true
    },
    "kernelspec": {
      "name": "python3",
      "display_name": "Python 3"
    },
    "language_info": {
      "name": "python"
    },
    "accelerator": "GPU"
  },
  "cells": [
    {
      "cell_type": "markdown",
      "metadata": {
        "id": "view-in-github",
        "colab_type": "text"
      },
      "source": [
        "<a href=\"https://colab.research.google.com/github/YusufBerkayAcar/Plastic-Type-Recognation-Transformer-Model/blob/main/PlasticTypeRecognationTransformerModel.ipynb\" target=\"_parent\"><img src=\"https://colab.research.google.com/assets/colab-badge.svg\" alt=\"Open In Colab\"/></a>"
      ]
    },
    {
      "cell_type": "code",
      "execution_count": null,
      "metadata": {
        "id": "0nLCJWqwBTQQ"
      },
      "outputs": [],
      "source": [
        "#Drive dosya okuma\n",
        "from google.colab import drive\n",
        "drive.mount('/content/drive')\n"
      ]
    },
    {
      "cell_type": "code",
      "source": [
        "#Çözürnürlüğü düşük ve bozuk görsellerin çıkartılması , yeniden boyutlandırılması.\n",
        "import os\n",
        "from PIL import Image\n",
        "import shutil\n",
        "\n",
        "def resize_images(input_dir, output_dir, size=(224, 224)):\n",
        "    if os.path.exists(output_dir):\n",
        "        shutil.rmtree(output_dir)  # önceki içerikleri sil (isteğe bağlı)\n",
        "    os.makedirs(output_dir, exist_ok=True)\n",
        "\n",
        "    for class_folder in os.listdir(input_dir):\n",
        "        class_input_path = os.path.join(input_dir, class_folder)\n",
        "        class_output_path = os.path.join(output_dir, class_folder)\n",
        "        os.makedirs(class_output_path, exist_ok=True)\n",
        "\n",
        "        for img_file in os.listdir(class_input_path):\n",
        "            input_img_path = os.path.join(class_input_path, img_file)\n",
        "            output_img_path = os.path.join(class_output_path, img_file)\n",
        "            try:\n",
        "                img = Image.open(input_img_path).convert(\"RGB\")\n",
        "                img = img.resize(size)\n",
        "                img.save(output_img_path)\n",
        "            except Exception as e:\n",
        "                print(f\"Hata: {input_img_path} -> {e}\")\n",
        "\n",
        "# Kullanım:\n",
        "resize_images(\n",
        "    input_dir=\"/content/drive/MyDrive/PlasticTypes\",\n",
        "    output_dir=\"/content/drive/MyDrive/resized_plastic_types\"\n",
        ")\n"
      ],
      "metadata": {
        "id": "fsJ5pdraB8mz"
      },
      "execution_count": null,
      "outputs": []
    },
    {
      "cell_type": "code",
      "source": [
        "#Veri setinin train , val , test olarak bölünmesi (%80,%10,%10)\n",
        "import os\n",
        "import shutil\n",
        "import random\n",
        "from pathlib import Path\n"
      ],
      "metadata": {
        "id": "9f4SubyhGKxe"
      },
      "execution_count": null,
      "outputs": []
    },
    {
      "cell_type": "code",
      "source": [
        "# Orijinal veri klasörü (Drive'daki yolunu güncelle!)\n",
        "dataset_dir = \"/content/drive/MyDrive/resized_plastic_types\"\n",
        "\n",
        "# Yeni oluşturulacak train/val/test klasörlerinin konumu\n",
        "output_base = \"/content/drive/MyDrive/plastic_split\"\n",
        "\n",
        "# Oranlar\n",
        "train_ratio = 0.8\n",
        "val_ratio = 0.1\n",
        "test_ratio = 0.1\n",
        "\n",
        "# Sınıf klasörlerini oku\n",
        "classes = os.listdir(dataset_dir)\n",
        "\n",
        "for class_name in classes:\n",
        "    class_path = os.path.join(dataset_dir, class_name)\n",
        "    if not os.path.isdir(class_path):\n",
        "        continue\n",
        "\n",
        "    # Dosyaları karıştır\n",
        "    images = os.listdir(class_path)\n",
        "    random.shuffle(images)\n",
        "\n",
        "    total = len(images)\n",
        "    train_count = int(total * train_ratio)\n",
        "    val_count = int(total * val_ratio)\n",
        "    test_count = total - train_count - val_count  # Kalanlar test'e\n",
        "\n",
        "    splits = {\n",
        "        \"train\": images[:train_count],\n",
        "        \"val\": images[train_count:train_count + val_count],\n",
        "        \"test\": images[train_count + val_count:]\n",
        "    }\n",
        "\n",
        "    for split_name, split_images in splits.items():\n",
        "        split_dir = os.path.join(output_base, split_name, class_name)\n",
        "        Path(split_dir).mkdir(parents=True, exist_ok=True)\n",
        "\n",
        "        for img_name in split_images:\n",
        "            src = os.path.join(class_path, img_name)\n",
        "            dst = os.path.join(split_dir, img_name)\n",
        "            shutil.copyfile(src, dst)\n",
        "\n",
        "print(\"✅ Veri başarıyla train/val/test olarak bölündü.\")\n"
      ],
      "metadata": {
        "colab": {
          "base_uri": "https://localhost:8080/"
        },
        "id": "9-yz3JD-GuRX",
        "outputId": "4b5d57d2-4142-48e3-9d02-b625f781c8a3"
      },
      "execution_count": null,
      "outputs": [
        {
          "output_type": "stream",
          "name": "stdout",
          "text": [
            "✅ Veri başarıyla train/val/test olarak bölündü.\n"
          ]
        }
      ]
    },
    {
      "cell_type": "code",
      "source": [
        "!pip install -q transformers datasets tensorflow pillow\n"
      ],
      "metadata": {
        "id": "hCnGfmbDi98S"
      },
      "execution_count": null,
      "outputs": []
    },
    {
      "cell_type": "code",
      "source": [
        "from transformers import ViTFeatureExtractor, TFAutoModelForImageClassification\n",
        "import tensorflow as tf\n",
        "import numpy as np\n",
        "import os\n",
        "from PIL import Image\n"
      ],
      "metadata": {
        "id": "Ek_B8gSEkdHn"
      },
      "execution_count": null,
      "outputs": []
    },
    {
      "cell_type": "code",
      "source": [
        "num_classes = 6  # PP, PE, PET, PC, PS, Others\n",
        "\n",
        "feature_extractor = ViTFeatureExtractor.from_pretrained(\"google/vit-base-patch16-224\")\n",
        "model = TFAutoModelForImageClassification.from_pretrained(\n",
        "    \"google/vit-base-patch16-224\",\n",
        "    num_labels=6,\n",
        "    ignore_mismatched_sizes=True\n",
        ")\n",
        "\n"
      ],
      "metadata": {
        "id": "Zk7WrPntkozF"
      },
      "execution_count": null,
      "outputs": []
    },
    {
      "cell_type": "code",
      "source": [
        "def get_image_paths_and_labels(data_dir):\n",
        "    classes = sorted(os.listdir(data_dir))\n",
        "    class_to_idx = {cls_name: idx for idx, cls_name in enumerate(classes)}\n",
        "\n",
        "    image_paths = []\n",
        "    labels = []\n",
        "\n",
        "    for cls_name in classes:\n",
        "        cls_folder = os.path.join(data_dir, cls_name)\n",
        "        for fname in os.listdir(cls_folder):\n",
        "            if fname.lower().endswith(('.jpg', '.jpeg', '.png')):\n",
        "                image_paths.append(os.path.join(cls_folder, fname))\n",
        "                labels.append(class_to_idx[cls_name])\n",
        "\n",
        "    return image_paths, labels, class_to_idx\n",
        "\n",
        "\n",
        "train_dir = \"/content/drive/MyDrive/plastic_split/train\"\n",
        "val_dir = \"/content/drive/MyDrive/plastic_split/val\"\n",
        "test_dir = \"/content/drive/MyDrive/plastic_split/test\"\n",
        "\n",
        "train_paths, train_labels, class_to_idx = get_image_paths_and_labels(train_dir)\n",
        "val_paths, val_labels, _ = get_image_paths_and_labels(val_dir)\n",
        "test_paths, test_labels, _ = get_image_paths_and_labels(test_dir)\n"
      ],
      "metadata": {
        "id": "v4u2Vp9-k_95"
      },
      "execution_count": null,
      "outputs": []
    },
    {
      "cell_type": "code",
      "source": [
        "def preprocess_image(path, label):\n",
        "    path = path.numpy().decode('utf-8')  # Tensor -> str dönüştür\n",
        "    image = Image.open(path).convert(\"RGB\")\n",
        "    inputs = feature_extractor(images=image, return_tensors=\"np\")\n",
        "    pixel_values = inputs['pixel_values'][0]\n",
        "    return pixel_values, label\n"
      ],
      "metadata": {
        "id": "_wSCxQjOlBI1"
      },
      "execution_count": null,
      "outputs": []
    },
    {
      "cell_type": "code",
      "source": [
        "def create_tf_dataset(image_paths, labels, batch_size=32, shuffle=True):\n",
        "    dataset = tf.data.Dataset.from_tensor_slices((image_paths, labels))\n",
        "\n",
        "    def _load_image(path, label):\n",
        "        pixel_values, label = tf.py_function(func=preprocess_image, inp=[path, label], Tout=[tf.float32, tf.int32])\n",
        "        pixel_values.set_shape((3, 224, 224))  # TF modelleri genelde bu shape'i bekler\n",
        "        label.set_shape(())\n",
        "        return pixel_values, label\n",
        "\n",
        "    dataset = dataset.map(_load_image, num_parallel_calls=tf.data.AUTOTUNE)\n",
        "\n",
        "    if shuffle:\n",
        "        dataset = dataset.shuffle(buffer_size=1000)\n",
        "    dataset = dataset.batch(batch_size)\n",
        "    dataset = dataset.prefetch(tf.data.AUTOTUNE)\n",
        "    return dataset\n"
      ],
      "metadata": {
        "id": "2Ihp0SE-lEdu"
      },
      "execution_count": null,
      "outputs": []
    },
    {
      "cell_type": "code",
      "source": [
        "batch_size = 32\n",
        "\n",
        "train_ds = create_tf_dataset(train_paths, train_labels, batch_size=batch_size)\n",
        "val_ds = create_tf_dataset(val_paths, val_labels, batch_size=batch_size, shuffle=False)\n",
        "test_ds = create_tf_dataset(test_paths, test_labels, batch_size=batch_size, shuffle=False)\n"
      ],
      "metadata": {
        "id": "zg7YtWQ5lFft"
      },
      "execution_count": null,
      "outputs": []
    },
    {
      "cell_type": "code",
      "source": [
        "optimizer = tf.keras.optimizers.Adam(learning_rate=5e-5)  # veya 1e-4, 3e-5\n",
        "model.compile(\n",
        "    optimizer=optimizer,\n",
        "    loss=tf.keras.losses.SparseCategoricalCrossentropy(from_logits=True),\n",
        "    metrics=[\"accuracy\"]\n",
        ")\n"
      ],
      "metadata": {
        "id": "6pvGPo9UlfoC"
      },
      "execution_count": null,
      "outputs": []
    },
    {
      "cell_type": "code",
      "source": [
        "history = model.fit(\n",
        "    train_ds,\n",
        "    validation_data=val_ds,\n",
        "    epochs=10,\n",
        "    verbose=1\n",
        ")\n"
      ],
      "metadata": {
        "colab": {
          "base_uri": "https://localhost:8080/"
        },
        "id": "sWVHwX6RlumT",
        "outputId": "8b73e983-de91-460f-fe51-64d9b872baaa"
      },
      "execution_count": null,
      "outputs": [
        {
          "output_type": "stream",
          "name": "stdout",
          "text": [
            "Epoch 1/10\n",
            "79/79 [==============================] - 158s 1s/step - loss: 1.6204 - accuracy: 0.3659 - val_loss: 1.5988 - val_accuracy: 0.3599\n",
            "Epoch 2/10\n",
            "79/79 [==============================] - 114s 1s/step - loss: 1.2022 - accuracy: 0.5621 - val_loss: 1.4053 - val_accuracy: 0.4522\n",
            "Epoch 3/10\n",
            "79/79 [==============================] - 114s 1s/step - loss: 0.9169 - accuracy: 0.6713 - val_loss: 1.3208 - val_accuracy: 0.4873\n",
            "Epoch 4/10\n",
            "79/79 [==============================] - 114s 1s/step - loss: 0.7634 - accuracy: 0.7243 - val_loss: 1.3932 - val_accuracy: 0.5032\n",
            "Epoch 5/10\n",
            "79/79 [==============================] - 115s 1s/step - loss: 0.6689 - accuracy: 0.7433 - val_loss: 1.3314 - val_accuracy: 0.5127\n",
            "Epoch 6/10\n",
            "79/79 [==============================] - 115s 1s/step - loss: 0.5958 - accuracy: 0.7678 - val_loss: 1.3521 - val_accuracy: 0.5287\n",
            "Epoch 7/10\n",
            "79/79 [==============================] - 114s 1s/step - loss: 0.5092 - accuracy: 0.8006 - val_loss: 1.4067 - val_accuracy: 0.5255\n",
            "Epoch 8/10\n",
            "79/79 [==============================] - 114s 1s/step - loss: 0.4460 - accuracy: 0.8204 - val_loss: 1.3886 - val_accuracy: 0.5318\n",
            "Epoch 9/10\n",
            "79/79 [==============================] - 114s 1s/step - loss: 0.4004 - accuracy: 0.8347 - val_loss: 1.4164 - val_accuracy: 0.5605\n",
            "Epoch 10/10\n",
            "79/79 [==============================] - 115s 1s/step - loss: 0.3870 - accuracy: 0.8358 - val_loss: 1.4487 - val_accuracy: 0.5446\n"
          ]
        }
      ]
    },
    {
      "cell_type": "code",
      "source": [
        "model.save(\"model2.keras\")"
      ],
      "metadata": {
        "id": "fcEunx4UxBtW"
      },
      "execution_count": null,
      "outputs": []
    },
    {
      "cell_type": "code",
      "source": [
        "# Test dataset hazır\n",
        "test_ds = create_tf_dataset(test_paths, test_labels, batch_size=batch_size, shuffle=False)\n",
        "\n",
        "# Test verisi üzerinde modelin performansını ölç\n",
        "test_loss, test_accuracy = model.evaluate(test_ds)\n",
        "print(f\"Test Loss: {test_loss:.4f}, Test Accuracy: {test_accuracy:.4f}\")\n"
      ],
      "metadata": {
        "colab": {
          "base_uri": "https://localhost:8080/"
        },
        "id": "erVtnB1H6azl",
        "outputId": "4ca0c781-a6a5-40d9-cd95-453fbd83be8c"
      },
      "execution_count": null,
      "outputs": [
        {
          "output_type": "stream",
          "name": "stdout",
          "text": [
            "11/11 [==============================] - 5s 419ms/step - loss: 1.4797 - accuracy: 0.5590\n",
            "Test Loss: 1.4797, Test Accuracy: 0.5590\n"
          ]
        }
      ]
    },
    {
      "cell_type": "code",
      "source": [
        "import matplotlib.pyplot as plt\n",
        "\n",
        "# Eğitim ve doğrulama doğruluğu\n",
        "plt.plot(history.history['accuracy'], label='Eğitim Doğruluğu')\n",
        "plt.plot(history.history['val_accuracy'], label='Doğrulama Doğruluğu')\n",
        "plt.title('Doğruluk Grafiği')\n",
        "plt.xlabel('Epoch')\n",
        "plt.ylabel('Doğruluk')\n",
        "plt.legend()\n",
        "plt.show()\n",
        "\n",
        "# Eğitim ve doğrulama kaybı\n",
        "plt.plot(history.history['loss'], label='Eğitim Kaybı')\n",
        "plt.plot(history.history['val_loss'], label='Doğrulama Kaybı')\n",
        "plt.title('Kayıp Grafiği')\n",
        "plt.xlabel('Epoch')\n",
        "plt.ylabel('Kayıp')\n",
        "plt.legend()\n",
        "plt.show()\n"
      ],
      "metadata": {
        "id": "I9QOqvFv8RVG",
        "outputId": "bba44b57-266c-49e2-aa0c-e5f22e31247c",
        "colab": {
          "base_uri": "https://localhost:8080/",
          "height": 927
        }
      },
      "execution_count": null,
      "outputs": [
        {
          "output_type": "display_data",
          "data": {
            "text/plain": [
              "<Figure size 640x480 with 1 Axes>"
            ],
            "image/png": "[encoded data removed]"
          },
          "metadata": {}
        },
        {
          "output_type": "display_data",
          "data": {
            "text/plain": [
              "<Figure size 640x480 with 1 Axes>"
            ],
            "image/png": "[encoded data removed]"
          },
          "metadata": {}
        }
      ]
    }
  ]
}